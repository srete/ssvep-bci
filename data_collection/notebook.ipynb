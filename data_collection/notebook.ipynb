{
 "cells": [
  {
   "cell_type": "code",
   "execution_count": 2,
   "metadata": {},
   "outputs": [
    {
     "ename": "FileNotFoundError",
     "evalue": "[Errno 2] No such file or directory: 'D:\\\\Faks\\\\AES_projekat\\\\REPO\\\\ssvep-bci\\\\data_collection\\\\recording\\\\first_recording\\\\gui\\\\OpenBCISession_2023-05-03_19-37-36\\\\BrainFlow-RAW_2023-05-03_19-37-36_1.csv'",
     "output_type": "error",
     "traceback": [
      "\u001b[1;31m---------------------------------------------------------------------------\u001b[0m",
      "\u001b[1;31mFileNotFoundError\u001b[0m                         Traceback (most recent call last)",
      "\u001b[1;32md:\\Faks\\AES_projekat\\REPO\\ssvep-bci\\data_collection\\notebook.ipynb Cell 1\u001b[0m in \u001b[0;36m<cell line: 3>\u001b[1;34m()\u001b[0m\n\u001b[0;32m      <a href='vscode-notebook-cell:/d%3A/Faks/AES_projekat/REPO/ssvep-bci/data_collection/notebook.ipynb#W0sZmlsZQ%3D%3D?line=0'>1</a>\u001b[0m \u001b[39mimport\u001b[39;00m \u001b[39mpandas\u001b[39;00m \u001b[39mas\u001b[39;00m \u001b[39mpd\u001b[39;00m\n\u001b[0;32m      <a href='vscode-notebook-cell:/d%3A/Faks/AES_projekat/REPO/ssvep-bci/data_collection/notebook.ipynb#W0sZmlsZQ%3D%3D?line=1'>2</a>\u001b[0m session_folder \u001b[39m=\u001b[39m \u001b[39mr\u001b[39m\u001b[39m'\u001b[39m\u001b[39mD:\u001b[39m\u001b[39m\\\u001b[39m\u001b[39mFaks\u001b[39m\u001b[39m\\\u001b[39m\u001b[39mAES_projekat\u001b[39m\u001b[39m\\\u001b[39m\u001b[39mREPO\u001b[39m\u001b[39m\\\u001b[39m\u001b[39mssvep-bci\u001b[39m\u001b[39m\\\u001b[39m\u001b[39mdata_collection\u001b[39m\u001b[39m\\\u001b[39m\u001b[39mrecording\u001b[39m\u001b[39m\\\u001b[39m\u001b[39mfirst_recording\u001b[39m\u001b[39m\\\u001b[39m\u001b[39mgui\u001b[39m\u001b[39m\\\u001b[39m\u001b[39mOpenBCISession_2023-05-03_19-37-36\u001b[39m\u001b[39m'\u001b[39m \u001b[39m+\u001b[39m \u001b[39m'\u001b[39m\u001b[39m\\\\\u001b[39;00m\u001b[39m'\u001b[39m\n\u001b[1;32m----> <a href='vscode-notebook-cell:/d%3A/Faks/AES_projekat/REPO/ssvep-bci/data_collection/notebook.ipynb#W0sZmlsZQ%3D%3D?line=2'>3</a>\u001b[0m df1 \u001b[39m=\u001b[39m pd\u001b[39m.\u001b[39;49mread_csv(session_folder \u001b[39m+\u001b[39;49m \u001b[39m'\u001b[39;49m\u001b[39mBrainFlow-RAW_2023-05-03_19-37-36_1.csv\u001b[39;49m\u001b[39m'\u001b[39;49m, sep\u001b[39m=\u001b[39;49m\u001b[39m'\u001b[39;49m\u001b[39m\\t\u001b[39;49;00m\u001b[39m'\u001b[39;49m, header\u001b[39m=\u001b[39;49m\u001b[39mNone\u001b[39;49;00m)\n\u001b[0;32m      <a href='vscode-notebook-cell:/d%3A/Faks/AES_projekat/REPO/ssvep-bci/data_collection/notebook.ipynb#W0sZmlsZQ%3D%3D?line=3'>4</a>\u001b[0m df2 \u001b[39m=\u001b[39m pd\u001b[39m.\u001b[39mread_csv(session_folder \u001b[39m+\u001b[39m \u001b[39m'\u001b[39m\u001b[39mOpenBCI-RAW-2023-05-03_19-39-53.txt\u001b[39m\u001b[39m'\u001b[39m, skiprows\u001b[39m=\u001b[39m\u001b[39m4\u001b[39m)\n",
      "File \u001b[1;32md:\\Aplikacije\\Anaconda\\envs\\default_env\\lib\\site-packages\\pandas\\util\\_decorators.py:311\u001b[0m, in \u001b[0;36mdeprecate_nonkeyword_arguments.<locals>.decorate.<locals>.wrapper\u001b[1;34m(*args, **kwargs)\u001b[0m\n\u001b[0;32m    305\u001b[0m \u001b[39mif\u001b[39;00m \u001b[39mlen\u001b[39m(args) \u001b[39m>\u001b[39m num_allow_args:\n\u001b[0;32m    306\u001b[0m     warnings\u001b[39m.\u001b[39mwarn(\n\u001b[0;32m    307\u001b[0m         msg\u001b[39m.\u001b[39mformat(arguments\u001b[39m=\u001b[39marguments),\n\u001b[0;32m    308\u001b[0m         \u001b[39mFutureWarning\u001b[39;00m,\n\u001b[0;32m    309\u001b[0m         stacklevel\u001b[39m=\u001b[39mstacklevel,\n\u001b[0;32m    310\u001b[0m     )\n\u001b[1;32m--> 311\u001b[0m \u001b[39mreturn\u001b[39;00m func(\u001b[39m*\u001b[39margs, \u001b[39m*\u001b[39m\u001b[39m*\u001b[39mkwargs)\n",
      "File \u001b[1;32md:\\Aplikacije\\Anaconda\\envs\\default_env\\lib\\site-packages\\pandas\\io\\parsers\\readers.py:680\u001b[0m, in \u001b[0;36mread_csv\u001b[1;34m(filepath_or_buffer, sep, delimiter, header, names, index_col, usecols, squeeze, prefix, mangle_dupe_cols, dtype, engine, converters, true_values, false_values, skipinitialspace, skiprows, skipfooter, nrows, na_values, keep_default_na, na_filter, verbose, skip_blank_lines, parse_dates, infer_datetime_format, keep_date_col, date_parser, dayfirst, cache_dates, iterator, chunksize, compression, thousands, decimal, lineterminator, quotechar, quoting, doublequote, escapechar, comment, encoding, encoding_errors, dialect, error_bad_lines, warn_bad_lines, on_bad_lines, delim_whitespace, low_memory, memory_map, float_precision, storage_options)\u001b[0m\n\u001b[0;32m    665\u001b[0m kwds_defaults \u001b[39m=\u001b[39m _refine_defaults_read(\n\u001b[0;32m    666\u001b[0m     dialect,\n\u001b[0;32m    667\u001b[0m     delimiter,\n\u001b[1;32m   (...)\u001b[0m\n\u001b[0;32m    676\u001b[0m     defaults\u001b[39m=\u001b[39m{\u001b[39m\"\u001b[39m\u001b[39mdelimiter\u001b[39m\u001b[39m\"\u001b[39m: \u001b[39m\"\u001b[39m\u001b[39m,\u001b[39m\u001b[39m\"\u001b[39m},\n\u001b[0;32m    677\u001b[0m )\n\u001b[0;32m    678\u001b[0m kwds\u001b[39m.\u001b[39mupdate(kwds_defaults)\n\u001b[1;32m--> 680\u001b[0m \u001b[39mreturn\u001b[39;00m _read(filepath_or_buffer, kwds)\n",
      "File \u001b[1;32md:\\Aplikacije\\Anaconda\\envs\\default_env\\lib\\site-packages\\pandas\\io\\parsers\\readers.py:575\u001b[0m, in \u001b[0;36m_read\u001b[1;34m(filepath_or_buffer, kwds)\u001b[0m\n\u001b[0;32m    572\u001b[0m _validate_names(kwds\u001b[39m.\u001b[39mget(\u001b[39m\"\u001b[39m\u001b[39mnames\u001b[39m\u001b[39m\"\u001b[39m, \u001b[39mNone\u001b[39;00m))\n\u001b[0;32m    574\u001b[0m \u001b[39m# Create the parser.\u001b[39;00m\n\u001b[1;32m--> 575\u001b[0m parser \u001b[39m=\u001b[39m TextFileReader(filepath_or_buffer, \u001b[39m*\u001b[39m\u001b[39m*\u001b[39mkwds)\n\u001b[0;32m    577\u001b[0m \u001b[39mif\u001b[39;00m chunksize \u001b[39mor\u001b[39;00m iterator:\n\u001b[0;32m    578\u001b[0m     \u001b[39mreturn\u001b[39;00m parser\n",
      "File \u001b[1;32md:\\Aplikacije\\Anaconda\\envs\\default_env\\lib\\site-packages\\pandas\\io\\parsers\\readers.py:934\u001b[0m, in \u001b[0;36mTextFileReader.__init__\u001b[1;34m(self, f, engine, **kwds)\u001b[0m\n\u001b[0;32m    931\u001b[0m     \u001b[39mself\u001b[39m\u001b[39m.\u001b[39moptions[\u001b[39m\"\u001b[39m\u001b[39mhas_index_names\u001b[39m\u001b[39m\"\u001b[39m] \u001b[39m=\u001b[39m kwds[\u001b[39m\"\u001b[39m\u001b[39mhas_index_names\u001b[39m\u001b[39m\"\u001b[39m]\n\u001b[0;32m    933\u001b[0m \u001b[39mself\u001b[39m\u001b[39m.\u001b[39mhandles: IOHandles \u001b[39m|\u001b[39m \u001b[39mNone\u001b[39;00m \u001b[39m=\u001b[39m \u001b[39mNone\u001b[39;00m\n\u001b[1;32m--> 934\u001b[0m \u001b[39mself\u001b[39m\u001b[39m.\u001b[39m_engine \u001b[39m=\u001b[39m \u001b[39mself\u001b[39;49m\u001b[39m.\u001b[39;49m_make_engine(f, \u001b[39mself\u001b[39;49m\u001b[39m.\u001b[39;49mengine)\n",
      "File \u001b[1;32md:\\Aplikacije\\Anaconda\\envs\\default_env\\lib\\site-packages\\pandas\\io\\parsers\\readers.py:1218\u001b[0m, in \u001b[0;36mTextFileReader._make_engine\u001b[1;34m(self, f, engine)\u001b[0m\n\u001b[0;32m   1214\u001b[0m     mode \u001b[39m=\u001b[39m \u001b[39m\"\u001b[39m\u001b[39mrb\u001b[39m\u001b[39m\"\u001b[39m\n\u001b[0;32m   1215\u001b[0m \u001b[39m# error: No overload variant of \"get_handle\" matches argument types\u001b[39;00m\n\u001b[0;32m   1216\u001b[0m \u001b[39m# \"Union[str, PathLike[str], ReadCsvBuffer[bytes], ReadCsvBuffer[str]]\"\u001b[39;00m\n\u001b[0;32m   1217\u001b[0m \u001b[39m# , \"str\", \"bool\", \"Any\", \"Any\", \"Any\", \"Any\", \"Any\"\u001b[39;00m\n\u001b[1;32m-> 1218\u001b[0m \u001b[39mself\u001b[39m\u001b[39m.\u001b[39mhandles \u001b[39m=\u001b[39m get_handle(  \u001b[39m# type: ignore[call-overload]\u001b[39;49;00m\n\u001b[0;32m   1219\u001b[0m     f,\n\u001b[0;32m   1220\u001b[0m     mode,\n\u001b[0;32m   1221\u001b[0m     encoding\u001b[39m=\u001b[39;49m\u001b[39mself\u001b[39;49m\u001b[39m.\u001b[39;49moptions\u001b[39m.\u001b[39;49mget(\u001b[39m\"\u001b[39;49m\u001b[39mencoding\u001b[39;49m\u001b[39m\"\u001b[39;49m, \u001b[39mNone\u001b[39;49;00m),\n\u001b[0;32m   1222\u001b[0m     compression\u001b[39m=\u001b[39;49m\u001b[39mself\u001b[39;49m\u001b[39m.\u001b[39;49moptions\u001b[39m.\u001b[39;49mget(\u001b[39m\"\u001b[39;49m\u001b[39mcompression\u001b[39;49m\u001b[39m\"\u001b[39;49m, \u001b[39mNone\u001b[39;49;00m),\n\u001b[0;32m   1223\u001b[0m     memory_map\u001b[39m=\u001b[39;49m\u001b[39mself\u001b[39;49m\u001b[39m.\u001b[39;49moptions\u001b[39m.\u001b[39;49mget(\u001b[39m\"\u001b[39;49m\u001b[39mmemory_map\u001b[39;49m\u001b[39m\"\u001b[39;49m, \u001b[39mFalse\u001b[39;49;00m),\n\u001b[0;32m   1224\u001b[0m     is_text\u001b[39m=\u001b[39;49mis_text,\n\u001b[0;32m   1225\u001b[0m     errors\u001b[39m=\u001b[39;49m\u001b[39mself\u001b[39;49m\u001b[39m.\u001b[39;49moptions\u001b[39m.\u001b[39;49mget(\u001b[39m\"\u001b[39;49m\u001b[39mencoding_errors\u001b[39;49m\u001b[39m\"\u001b[39;49m, \u001b[39m\"\u001b[39;49m\u001b[39mstrict\u001b[39;49m\u001b[39m\"\u001b[39;49m),\n\u001b[0;32m   1226\u001b[0m     storage_options\u001b[39m=\u001b[39;49m\u001b[39mself\u001b[39;49m\u001b[39m.\u001b[39;49moptions\u001b[39m.\u001b[39;49mget(\u001b[39m\"\u001b[39;49m\u001b[39mstorage_options\u001b[39;49m\u001b[39m\"\u001b[39;49m, \u001b[39mNone\u001b[39;49;00m),\n\u001b[0;32m   1227\u001b[0m )\n\u001b[0;32m   1228\u001b[0m \u001b[39massert\u001b[39;00m \u001b[39mself\u001b[39m\u001b[39m.\u001b[39mhandles \u001b[39mis\u001b[39;00m \u001b[39mnot\u001b[39;00m \u001b[39mNone\u001b[39;00m\n\u001b[0;32m   1229\u001b[0m f \u001b[39m=\u001b[39m \u001b[39mself\u001b[39m\u001b[39m.\u001b[39mhandles\u001b[39m.\u001b[39mhandle\n",
      "File \u001b[1;32md:\\Aplikacije\\Anaconda\\envs\\default_env\\lib\\site-packages\\pandas\\io\\common.py:786\u001b[0m, in \u001b[0;36mget_handle\u001b[1;34m(path_or_buf, mode, encoding, compression, memory_map, is_text, errors, storage_options)\u001b[0m\n\u001b[0;32m    781\u001b[0m \u001b[39melif\u001b[39;00m \u001b[39misinstance\u001b[39m(handle, \u001b[39mstr\u001b[39m):\n\u001b[0;32m    782\u001b[0m     \u001b[39m# Check whether the filename is to be opened in binary mode.\u001b[39;00m\n\u001b[0;32m    783\u001b[0m     \u001b[39m# Binary mode does not support 'encoding' and 'newline'.\u001b[39;00m\n\u001b[0;32m    784\u001b[0m     \u001b[39mif\u001b[39;00m ioargs\u001b[39m.\u001b[39mencoding \u001b[39mand\u001b[39;00m \u001b[39m\"\u001b[39m\u001b[39mb\u001b[39m\u001b[39m\"\u001b[39m \u001b[39mnot\u001b[39;00m \u001b[39min\u001b[39;00m ioargs\u001b[39m.\u001b[39mmode:\n\u001b[0;32m    785\u001b[0m         \u001b[39m# Encoding\u001b[39;00m\n\u001b[1;32m--> 786\u001b[0m         handle \u001b[39m=\u001b[39m \u001b[39mopen\u001b[39;49m(\n\u001b[0;32m    787\u001b[0m             handle,\n\u001b[0;32m    788\u001b[0m             ioargs\u001b[39m.\u001b[39;49mmode,\n\u001b[0;32m    789\u001b[0m             encoding\u001b[39m=\u001b[39;49mioargs\u001b[39m.\u001b[39;49mencoding,\n\u001b[0;32m    790\u001b[0m             errors\u001b[39m=\u001b[39;49merrors,\n\u001b[0;32m    791\u001b[0m             newline\u001b[39m=\u001b[39;49m\u001b[39m\"\u001b[39;49m\u001b[39m\"\u001b[39;49m,\n\u001b[0;32m    792\u001b[0m         )\n\u001b[0;32m    793\u001b[0m     \u001b[39melse\u001b[39;00m:\n\u001b[0;32m    794\u001b[0m         \u001b[39m# Binary mode\u001b[39;00m\n\u001b[0;32m    795\u001b[0m         handle \u001b[39m=\u001b[39m \u001b[39mopen\u001b[39m(handle, ioargs\u001b[39m.\u001b[39mmode)\n",
      "\u001b[1;31mFileNotFoundError\u001b[0m: [Errno 2] No such file or directory: 'D:\\\\Faks\\\\AES_projekat\\\\REPO\\\\ssvep-bci\\\\data_collection\\\\recording\\\\first_recording\\\\gui\\\\OpenBCISession_2023-05-03_19-37-36\\\\BrainFlow-RAW_2023-05-03_19-37-36_1.csv'"
     ]
    }
   ],
   "source": [
    "import pandas as pd\n",
    "session_folder = r'D:\\Faks\\AES_projekat\\REPO\\ssvep-bci\\data_collection\\recording\\first_recording\\gui\\OpenBCISession_2023-05-03_19-37-36' + '\\\\'\n",
    "df1 = pd.read_csv(session_folder + 'BrainFlow-RAW_2023-05-03_19-37-36_1.csv', sep='\\t', header=None)\n",
    "df2 = pd.read_csv(session_folder + 'OpenBCI-RAW-2023-05-03_19-39-53.txt', skiprows=4)"
   ]
  },
  {
   "cell_type": "code",
   "execution_count": 47,
   "metadata": {},
   "outputs": [
    {
     "name": "stdout",
     "output_type": "stream",
     "text": [
      "(39386, 16) (39392, 15)\n"
     ]
    }
   ],
   "source": [
    "print(df2.shape, df1.shape)"
   ]
  },
  {
   "cell_type": "code",
   "execution_count": 50,
   "metadata": {},
   "outputs": [
    {
     "data": {
      "text/html": [
       "<div>\n",
       "<style scoped>\n",
       "    .dataframe tbody tr th:only-of-type {\n",
       "        vertical-align: middle;\n",
       "    }\n",
       "\n",
       "    .dataframe tbody tr th {\n",
       "        vertical-align: top;\n",
       "    }\n",
       "\n",
       "    .dataframe thead th {\n",
       "        text-align: right;\n",
       "    }\n",
       "</style>\n",
       "<table border=\"1\" class=\"dataframe\">\n",
       "  <thead>\n",
       "    <tr style=\"text-align: right;\">\n",
       "      <th></th>\n",
       "      <th>0</th>\n",
       "      <th>1</th>\n",
       "      <th>2</th>\n",
       "      <th>3</th>\n",
       "      <th>4</th>\n",
       "      <th>5</th>\n",
       "      <th>6</th>\n",
       "      <th>7</th>\n",
       "      <th>8</th>\n",
       "      <th>9</th>\n",
       "      <th>10</th>\n",
       "      <th>11</th>\n",
       "      <th>12</th>\n",
       "      <th>13</th>\n",
       "      <th>14</th>\n",
       "    </tr>\n",
       "  </thead>\n",
       "  <tbody>\n",
       "    <tr>\n",
       "      <th>0</th>\n",
       "      <td>0.0</td>\n",
       "      <td>-977.800583</td>\n",
       "      <td>-121.339184</td>\n",
       "      <td>-310.086325</td>\n",
       "      <td>-301.529434</td>\n",
       "      <td>0.000</td>\n",
       "      <td>0.000</td>\n",
       "      <td>0.0</td>\n",
       "      <td>0.0</td>\n",
       "      <td>0.0</td>\n",
       "      <td>0.0</td>\n",
       "      <td>0.0</td>\n",
       "      <td>0.0</td>\n",
       "      <td>1.683136e+09</td>\n",
       "      <td>0.0</td>\n",
       "    </tr>\n",
       "    <tr>\n",
       "      <th>1</th>\n",
       "      <td>1.0</td>\n",
       "      <td>-966.767878</td>\n",
       "      <td>22.029881</td>\n",
       "      <td>-166.133836</td>\n",
       "      <td>-165.412035</td>\n",
       "      <td>0.000</td>\n",
       "      <td>0.032</td>\n",
       "      <td>0.0</td>\n",
       "      <td>0.0</td>\n",
       "      <td>0.0</td>\n",
       "      <td>0.0</td>\n",
       "      <td>0.0</td>\n",
       "      <td>0.0</td>\n",
       "      <td>1.683136e+09</td>\n",
       "      <td>0.0</td>\n",
       "    </tr>\n",
       "    <tr>\n",
       "      <th>2</th>\n",
       "      <td>1.0</td>\n",
       "      <td>-959.759306</td>\n",
       "      <td>20.982709</td>\n",
       "      <td>-240.894436</td>\n",
       "      <td>-244.641816</td>\n",
       "      <td>0.000</td>\n",
       "      <td>0.032</td>\n",
       "      <td>0.0</td>\n",
       "      <td>0.0</td>\n",
       "      <td>0.0</td>\n",
       "      <td>0.0</td>\n",
       "      <td>0.0</td>\n",
       "      <td>0.0</td>\n",
       "      <td>1.683136e+09</td>\n",
       "      <td>0.0</td>\n",
       "    </tr>\n",
       "    <tr>\n",
       "      <th>3</th>\n",
       "      <td>2.0</td>\n",
       "      <td>-965.062484</td>\n",
       "      <td>-123.512066</td>\n",
       "      <td>-364.105440</td>\n",
       "      <td>-352.863301</td>\n",
       "      <td>0.016</td>\n",
       "      <td>0.032</td>\n",
       "      <td>0.0</td>\n",
       "      <td>0.0</td>\n",
       "      <td>0.0</td>\n",
       "      <td>0.0</td>\n",
       "      <td>0.0</td>\n",
       "      <td>0.0</td>\n",
       "      <td>1.683136e+09</td>\n",
       "      <td>0.0</td>\n",
       "    </tr>\n",
       "    <tr>\n",
       "      <th>4</th>\n",
       "      <td>2.0</td>\n",
       "      <td>-963.951734</td>\n",
       "      <td>-114.308172</td>\n",
       "      <td>-301.473335</td>\n",
       "      <td>-298.997522</td>\n",
       "      <td>0.016</td>\n",
       "      <td>0.032</td>\n",
       "      <td>0.0</td>\n",
       "      <td>0.0</td>\n",
       "      <td>0.0</td>\n",
       "      <td>0.0</td>\n",
       "      <td>0.0</td>\n",
       "      <td>0.0</td>\n",
       "      <td>1.683136e+09</td>\n",
       "      <td>0.0</td>\n",
       "    </tr>\n",
       "  </tbody>\n",
       "</table>\n",
       "</div>"
      ],
      "text/plain": [
       "    0           1           2           3           4      5      6    7   \\\n",
       "0  0.0 -977.800583 -121.339184 -310.086325 -301.529434  0.000  0.000  0.0   \n",
       "1  1.0 -966.767878   22.029881 -166.133836 -165.412035  0.000  0.032  0.0   \n",
       "2  1.0 -959.759306   20.982709 -240.894436 -244.641816  0.000  0.032  0.0   \n",
       "3  2.0 -965.062484 -123.512066 -364.105440 -352.863301  0.016  0.032  0.0   \n",
       "4  2.0 -963.951734 -114.308172 -301.473335 -298.997522  0.016  0.032  0.0   \n",
       "\n",
       "    8    9    10   11   12            13   14  \n",
       "0  0.0  0.0  0.0  0.0  0.0  1.683136e+09  0.0  \n",
       "1  0.0  0.0  0.0  0.0  0.0  1.683136e+09  0.0  \n",
       "2  0.0  0.0  0.0  0.0  0.0  1.683136e+09  0.0  \n",
       "3  0.0  0.0  0.0  0.0  0.0  1.683136e+09  0.0  \n",
       "4  0.0  0.0  0.0  0.0  0.0  1.683136e+09  0.0  "
      ]
     },
     "execution_count": 50,
     "metadata": {},
     "output_type": "execute_result"
    }
   ],
   "source": [
    "df1.head()"
   ]
  },
  {
   "cell_type": "code",
   "execution_count": 51,
   "metadata": {},
   "outputs": [
    {
     "data": {
      "text/html": [
       "<div>\n",
       "<style scoped>\n",
       "    .dataframe tbody tr th:only-of-type {\n",
       "        vertical-align: middle;\n",
       "    }\n",
       "\n",
       "    .dataframe tbody tr th {\n",
       "        vertical-align: top;\n",
       "    }\n",
       "\n",
       "    .dataframe thead th {\n",
       "        text-align: right;\n",
       "    }\n",
       "</style>\n",
       "<table border=\"1\" class=\"dataframe\">\n",
       "  <thead>\n",
       "    <tr style=\"text-align: right;\">\n",
       "      <th></th>\n",
       "      <th>Sample Index</th>\n",
       "      <th>EXG Channel 0</th>\n",
       "      <th>EXG Channel 1</th>\n",
       "      <th>EXG Channel 2</th>\n",
       "      <th>EXG Channel 3</th>\n",
       "      <th>Accel Channel 0</th>\n",
       "      <th>Accel Channel 1</th>\n",
       "      <th>Accel Channel 2</th>\n",
       "      <th>Other</th>\n",
       "      <th>Other.1</th>\n",
       "      <th>Other.2</th>\n",
       "      <th>Other.3</th>\n",
       "      <th>Other.4</th>\n",
       "      <th>Timestamp</th>\n",
       "      <th>Other.5</th>\n",
       "      <th>Timestamp (Formatted)</th>\n",
       "    </tr>\n",
       "  </thead>\n",
       "  <tbody>\n",
       "    <tr>\n",
       "      <th>0</th>\n",
       "      <td>0.0</td>\n",
       "      <td>-977.800583</td>\n",
       "      <td>-121.339184</td>\n",
       "      <td>-310.086325</td>\n",
       "      <td>-301.529434</td>\n",
       "      <td>0.000</td>\n",
       "      <td>0.000</td>\n",
       "      <td>0.0</td>\n",
       "      <td>0.0</td>\n",
       "      <td>0.0</td>\n",
       "      <td>0.0</td>\n",
       "      <td>0.0</td>\n",
       "      <td>0.0</td>\n",
       "      <td>1.683136e+09</td>\n",
       "      <td>0.0</td>\n",
       "      <td>2023-05-03 19:39:53.977</td>\n",
       "    </tr>\n",
       "    <tr>\n",
       "      <th>1</th>\n",
       "      <td>1.0</td>\n",
       "      <td>-966.767878</td>\n",
       "      <td>22.029881</td>\n",
       "      <td>-166.133836</td>\n",
       "      <td>-165.412035</td>\n",
       "      <td>0.000</td>\n",
       "      <td>0.032</td>\n",
       "      <td>0.0</td>\n",
       "      <td>0.0</td>\n",
       "      <td>0.0</td>\n",
       "      <td>0.0</td>\n",
       "      <td>0.0</td>\n",
       "      <td>0.0</td>\n",
       "      <td>1.683136e+09</td>\n",
       "      <td>0.0</td>\n",
       "      <td>2023-05-03 19:39:53.990</td>\n",
       "    </tr>\n",
       "    <tr>\n",
       "      <th>2</th>\n",
       "      <td>1.0</td>\n",
       "      <td>-959.759306</td>\n",
       "      <td>20.982709</td>\n",
       "      <td>-240.894436</td>\n",
       "      <td>-244.641816</td>\n",
       "      <td>0.000</td>\n",
       "      <td>0.032</td>\n",
       "      <td>0.0</td>\n",
       "      <td>0.0</td>\n",
       "      <td>0.0</td>\n",
       "      <td>0.0</td>\n",
       "      <td>0.0</td>\n",
       "      <td>0.0</td>\n",
       "      <td>1.683136e+09</td>\n",
       "      <td>0.0</td>\n",
       "      <td>2023-05-03 19:39:53.990</td>\n",
       "    </tr>\n",
       "    <tr>\n",
       "      <th>3</th>\n",
       "      <td>2.0</td>\n",
       "      <td>-965.062484</td>\n",
       "      <td>-123.512066</td>\n",
       "      <td>-364.105440</td>\n",
       "      <td>-352.863301</td>\n",
       "      <td>0.016</td>\n",
       "      <td>0.032</td>\n",
       "      <td>0.0</td>\n",
       "      <td>0.0</td>\n",
       "      <td>0.0</td>\n",
       "      <td>0.0</td>\n",
       "      <td>0.0</td>\n",
       "      <td>0.0</td>\n",
       "      <td>1.683136e+09</td>\n",
       "      <td>0.0</td>\n",
       "      <td>2023-05-03 19:39:54.007</td>\n",
       "    </tr>\n",
       "    <tr>\n",
       "      <th>4</th>\n",
       "      <td>2.0</td>\n",
       "      <td>-963.951734</td>\n",
       "      <td>-114.308172</td>\n",
       "      <td>-301.473335</td>\n",
       "      <td>-298.997522</td>\n",
       "      <td>0.016</td>\n",
       "      <td>0.032</td>\n",
       "      <td>0.0</td>\n",
       "      <td>0.0</td>\n",
       "      <td>0.0</td>\n",
       "      <td>0.0</td>\n",
       "      <td>0.0</td>\n",
       "      <td>0.0</td>\n",
       "      <td>1.683136e+09</td>\n",
       "      <td>0.0</td>\n",
       "      <td>2023-05-03 19:39:54.007</td>\n",
       "    </tr>\n",
       "  </tbody>\n",
       "</table>\n",
       "</div>"
      ],
      "text/plain": [
       "   Sample Index   EXG Channel 0   EXG Channel 1   EXG Channel 2  \\\n",
       "0           0.0     -977.800583     -121.339184     -310.086325   \n",
       "1           1.0     -966.767878       22.029881     -166.133836   \n",
       "2           1.0     -959.759306       20.982709     -240.894436   \n",
       "3           2.0     -965.062484     -123.512066     -364.105440   \n",
       "4           2.0     -963.951734     -114.308172     -301.473335   \n",
       "\n",
       "    EXG Channel 3   Accel Channel 0   Accel Channel 1   Accel Channel 2  \\\n",
       "0     -301.529434             0.000             0.000               0.0   \n",
       "1     -165.412035             0.000             0.032               0.0   \n",
       "2     -244.641816             0.000             0.032               0.0   \n",
       "3     -352.863301             0.016             0.032               0.0   \n",
       "4     -298.997522             0.016             0.032               0.0   \n",
       "\n",
       "    Other   Other.1   Other.2   Other.3   Other.4     Timestamp   Other.5  \\\n",
       "0     0.0       0.0       0.0       0.0       0.0  1.683136e+09       0.0   \n",
       "1     0.0       0.0       0.0       0.0       0.0  1.683136e+09       0.0   \n",
       "2     0.0       0.0       0.0       0.0       0.0  1.683136e+09       0.0   \n",
       "3     0.0       0.0       0.0       0.0       0.0  1.683136e+09       0.0   \n",
       "4     0.0       0.0       0.0       0.0       0.0  1.683136e+09       0.0   \n",
       "\n",
       "      Timestamp (Formatted)  \n",
       "0   2023-05-03 19:39:53.977  \n",
       "1   2023-05-03 19:39:53.990  \n",
       "2   2023-05-03 19:39:53.990  \n",
       "3   2023-05-03 19:39:54.007  \n",
       "4   2023-05-03 19:39:54.007  "
      ]
     },
     "execution_count": 51,
     "metadata": {},
     "output_type": "execute_result"
    }
   ],
   "source": [
    "df2.head()"
   ]
  },
  {
   "cell_type": "code",
   "execution_count": 50,
   "metadata": {},
   "outputs": [
    {
     "name": "stdout",
     "output_type": "stream",
     "text": [
      "   blink_freq       ch1       ch2       ch3       ch4  timestamp\n",
      "0         0.0  0.062020  0.192321  0.651850  0.694744   0.032257\n",
      "1         0.0  0.934680  0.801309  0.941493  0.277527   0.296622\n",
      "2         0.0  0.078328  0.607188  0.084213  0.522388   0.371790\n",
      "3         0.0  0.460409  0.254955  0.461073  0.726979   0.117447\n",
      "4         0.0  0.204625  0.487774  0.786147  0.068227   0.325580\n",
      "(2048, 6)\n",
      "(4, 6, 511)\n"
     ]
    }
   ],
   "source": [
    "import numpy as np\n",
    "\n",
    "data_path = r'D:\\Faks\\AES_projekat\\REPO\\ssvep-bci\\data_collection\\recorded_data\\2023-05-10\\test_session\\01-21-56\\trial_1.csv'\n",
    "\n",
    "df = pd.read_csv(data_path)\n",
    "# remove unnamed column\n",
    "df = df.loc[:, ~df.columns.str.contains('^Unnamed')]\n",
    "print(df.head())\n",
    "print(df.shape)\n",
    "# group by blink_freq, and convert each group to numpy array witout blink_freq column\n",
    "df = df.groupby('blink_freq').apply(lambda x: x.to_numpy().transpose()[:, 1:])\n",
    "data = np.array(df.tolist())\n",
    "print(data.shape)  # (n_freqs, n_channels+1, n_samples)"
   ]
  },
  {
   "cell_type": "code",
   "execution_count": null,
   "metadata": {},
   "outputs": [],
   "source": [
    "print(df.shape)\n",
    "print(df[0].shape)\n",
    "# make array from colmns\n",
    "df = np.array(df.tolist())\n",
    "df.shape"
   ]
  },
  {
   "cell_type": "code",
   "execution_count": 18,
   "metadata": {},
   "outputs": [
    {
     "data": {
      "text/plain": [
       "(7, 399)"
      ]
     },
     "execution_count": 18,
     "metadata": {},
     "output_type": "execute_result"
    }
   ],
   "source": [
    "import pandas as pd\n",
    "\n",
    "path = r'D:\\Faks\\AES_projekat\\REPO\\ssvep-bci\\data_collection\\recorded_data\\2023-05-10\\test_session\\17-05-48\\trial_0.csv'\n",
    "\n",
    "df = pd.read_csv(path)\n",
    "df = df.groupby('blink_freq').apply(lambda x: x.to_numpy().transpose()[:, 1:])\n",
    "df.iloc[3].shape"
   ]
  },
  {
   "cell_type": "code",
   "execution_count": 49,
   "metadata": {},
   "outputs": [
    {
     "data": {
      "text/plain": [
       "2.2239787578582764"
      ]
     },
     "execution_count": 49,
     "metadata": {},
     "output_type": "execute_result"
    }
   ],
   "source": [
    "1683730225.9579031 - 1683730223.7339244"
   ]
  },
  {
   "cell_type": "code",
   "execution_count": 53,
   "metadata": {},
   "outputs": [
    {
     "data": {
      "text/plain": [
       "0.16840577125549316"
      ]
     },
     "execution_count": 53,
     "metadata": {},
     "output_type": "execute_result"
    }
   ],
   "source": [
    "1683730225.9579031 - 1683730225.7894974"
   ]
  },
  {
   "cell_type": "code",
   "execution_count": 21,
   "metadata": {},
   "outputs": [
    {
     "data": {
      "image/png": "[encoded data removed]",
      "text/plain": [
       "<Figure size 432x288 with 1 Axes>"
      ]
     },
     "metadata": {
      "needs_background": "light"
     },
     "output_type": "display_data"
    }
   ],
   "source": [
    "import pandas as pd\n",
    "import matplotlib.pyplot as plt\n",
    "import os\n",
    "\n",
    "# interactive plot mode\n",
    "plt.ion()\n",
    "\n",
    "\n",
    "data_folder = r'D:\\Faks\\AES_projekat\\REPO\\ssvep-bci\\data_collection\\recorded_data\\2023-05-10\\teodora\\18-02-46'\n",
    "csv_files = [f for f in os.listdir(data_folder) if f.endswith('.csv')]\n",
    "\n",
    "data = pd.read_csv(os.path.join(data_folder, csv_files[0]))\n",
    "data.head()\n",
    "time = data['timestamp'].to_numpy()\n",
    "# group by blink_freq\n",
    "data = data.groupby('blink_freq').apply(lambda x: x.to_numpy().transpose()[:, 1:])\n",
    "\n",
    "plt.plot(data.iloc[0][-1][200:], data.iloc[0][2][200:])\n",
    "plt.show()"
   ]
  },
  {
   "cell_type": "code",
   "execution_count": 15,
   "metadata": {},
   "outputs": [
    {
     "data": {
      "text/plain": [
       "array([-27.26387068,   6.35409002,  32.66054631, ..., 725.54246135,\n",
       "       742.06533936, 747.48445439])"
      ]
     },
     "execution_count": 15,
     "metadata": {},
     "output_type": "execute_result"
    }
   ],
   "source": [
    "data.iloc[0][2]"
   ]
  }
 ],
 "metadata": {
  "kernelspec": {
   "display_name": "default_env",
   "language": "python",
   "name": "python3"
  },
  "language_info": {
   "codemirror_mode": {
    "name": "ipython",
    "version": 3
   },
   "file_extension": ".py",
   "mimetype": "text/x-python",
   "name": "python",
   "nbconvert_exporter": "python",
   "pygments_lexer": "ipython3",
   "version": "3.10.4"
  },
  "orig_nbformat": 4
 },
 "nbformat": 4,
 "nbformat_minor": 2
}
